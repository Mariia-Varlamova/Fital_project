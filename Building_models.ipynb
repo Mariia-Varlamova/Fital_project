{
 "cells": [
  {
   "cell_type": "markdown",
   "id": "e92d989d-8900-4ca7-8ede-95e42a611dfa",
   "metadata": {},
   "source": [
    "### 1. Load data with real estate prices"
   ]
  },
  {
   "cell_type": "code",
   "execution_count": 1,
   "id": "b582e391-f6a6-49b3-937b-3cae897c51b0",
   "metadata": {
    "tags": []
   },
   "outputs": [],
   "source": [
    "# let's import pandas library and set options to be able to view data right in the browser\n",
    "import joblib\n",
    "import pandas as pd\n",
    "import seaborn as sns\n",
    "import scipy.stats as stats\n",
    "import matplotlib.style as style\n",
    "from matplotlib import pyplot as plt\n",
    "pd.set_option('display.max_columns', 500)\n",
    "pd.set_option('display.width', 1000)\n",
    "pd.set_option('display.max_colwidth', 1000)\n",
    "style.use('fivethirtyeight')\n",
    "import numpy as np\n",
    "\n",
    "from sklearn.tree import DecisionTreeRegressor, plot_tree\n",
    "from sklearn import metrics\n",
    "from sklearn.linear_model import LinearRegression\n",
    "from sklearn.ensemble import RandomForestRegressor\n",
    "from catboost import CatBoostRegressor\n",
    "from lightgbm import LGBMRegressor\n",
    "from sklearn.model_selection import train_test_split \n",
    "from sklearn.preprocessing import StandardScaler\n",
    "from sklearn.model_selection import GridSearchCV "
   ]
  },
  {
   "cell_type": "code",
   "execution_count": 2,
   "id": "ce15c64d-eca1-4d32-930d-a2b44b6e98a6",
   "metadata": {
    "tags": []
   },
   "outputs": [],
   "source": [
    "rent_df_cleaned = pd.read_csv('cleaned_dataset_my.csv')"
   ]
  },
  {
   "cell_type": "code",
   "execution_count": 3,
   "id": "2134ea1e-8d1b-4e71-976d-f3de7f56f978",
   "metadata": {
    "tags": []
   },
   "outputs": [
    {
     "data": {
      "text/html": [
       "<div>\n",
       "<style scoped>\n",
       "    .dataframe tbody tr th:only-of-type {\n",
       "        vertical-align: middle;\n",
       "    }\n",
       "\n",
       "    .dataframe tbody tr th {\n",
       "        vertical-align: top;\n",
       "    }\n",
       "\n",
       "    .dataframe thead th {\n",
       "        text-align: right;\n",
       "    }\n",
       "</style>\n",
       "<table border=\"1\" class=\"dataframe\">\n",
       "  <thead>\n",
       "    <tr style=\"text-align: right;\">\n",
       "      <th></th>\n",
       "      <th>offer_id</th>\n",
       "      <th>last_price</th>\n",
       "      <th>floor</th>\n",
       "      <th>open_plan</th>\n",
       "      <th>rooms</th>\n",
       "      <th>studio</th>\n",
       "      <th>area</th>\n",
       "      <th>kitchen_area</th>\n",
       "      <th>living_area</th>\n",
       "      <th>renovation</th>\n",
       "      <th>unified_address</th>\n",
       "      <th>building_id</th>\n",
       "      <th>price_per_sq_m</th>\n",
       "      <th>house_price_sqm_median</th>\n",
       "    </tr>\n",
       "  </thead>\n",
       "  <tbody>\n",
       "    <tr>\n",
       "      <th>0</th>\n",
       "      <td>1100202</td>\n",
       "      <td>20000.0</td>\n",
       "      <td>7</td>\n",
       "      <td>0</td>\n",
       "      <td>1</td>\n",
       "      <td>0</td>\n",
       "      <td>28.0</td>\n",
       "      <td>8.0</td>\n",
       "      <td>20.0</td>\n",
       "      <td>3.0</td>\n",
       "      <td>Россия, Санкт-Петербург, Богатырский проспект, 5к1</td>\n",
       "      <td>6719200042030752141</td>\n",
       "      <td>714.285714</td>\n",
       "      <td>512.820513</td>\n",
       "    </tr>\n",
       "    <tr>\n",
       "      <th>1</th>\n",
       "      <td>5028522699704970725</td>\n",
       "      <td>40000.0</td>\n",
       "      <td>4</td>\n",
       "      <td>0</td>\n",
       "      <td>2</td>\n",
       "      <td>0</td>\n",
       "      <td>72.0</td>\n",
       "      <td>10.0</td>\n",
       "      <td>44.0</td>\n",
       "      <td>0.0</td>\n",
       "      <td>Россия, Санкт-Петербург, набережная реки Фонтанки, 66</td>\n",
       "      <td>3406104650917898355</td>\n",
       "      <td>555.555556</td>\n",
       "      <td>675.675676</td>\n",
       "    </tr>\n",
       "    <tr>\n",
       "      <th>2</th>\n",
       "      <td>5028522699709767236</td>\n",
       "      <td>45000.0</td>\n",
       "      <td>2</td>\n",
       "      <td>0</td>\n",
       "      <td>2</td>\n",
       "      <td>0</td>\n",
       "      <td>55.0</td>\n",
       "      <td>10.0</td>\n",
       "      <td>33.0</td>\n",
       "      <td>0.0</td>\n",
       "      <td>Россия, Санкт-Петербург, Большой проспект П.С., 102</td>\n",
       "      <td>2357095685903407888</td>\n",
       "      <td>818.181818</td>\n",
       "      <td>818.181818</td>\n",
       "    </tr>\n",
       "    <tr>\n",
       "      <th>3</th>\n",
       "      <td>1100874</td>\n",
       "      <td>21000.0</td>\n",
       "      <td>5</td>\n",
       "      <td>0</td>\n",
       "      <td>1</td>\n",
       "      <td>0</td>\n",
       "      <td>35.0</td>\n",
       "      <td>8.0</td>\n",
       "      <td>18.0</td>\n",
       "      <td>11.0</td>\n",
       "      <td>Россия, Санкт-Петербург, Лужская улица, 8</td>\n",
       "      <td>5887402119500981764</td>\n",
       "      <td>600.000000</td>\n",
       "      <td>568.468556</td>\n",
       "    </tr>\n",
       "    <tr>\n",
       "      <th>4</th>\n",
       "      <td>875413</td>\n",
       "      <td>25000.0</td>\n",
       "      <td>10</td>\n",
       "      <td>0</td>\n",
       "      <td>1</td>\n",
       "      <td>1</td>\n",
       "      <td>44.0</td>\n",
       "      <td>15.0</td>\n",
       "      <td>18.0</td>\n",
       "      <td>10.0</td>\n",
       "      <td>Россия, Санкт-Петербург, Учительская улица, 3</td>\n",
       "      <td>6527910144166454997</td>\n",
       "      <td>568.181818</td>\n",
       "      <td>625.000000</td>\n",
       "    </tr>\n",
       "  </tbody>\n",
       "</table>\n",
       "</div>"
      ],
      "text/plain": [
       "              offer_id  last_price  floor  open_plan  rooms  studio  area  kitchen_area  living_area  renovation                                        unified_address          building_id  price_per_sq_m  house_price_sqm_median\n",
       "0              1100202     20000.0      7          0      1       0  28.0           8.0         20.0         3.0     Россия, Санкт-Петербург, Богатырский проспект, 5к1  6719200042030752141      714.285714              512.820513\n",
       "1  5028522699704970725     40000.0      4          0      2       0  72.0          10.0         44.0         0.0  Россия, Санкт-Петербург, набережная реки Фонтанки, 66  3406104650917898355      555.555556              675.675676\n",
       "2  5028522699709767236     45000.0      2          0      2       0  55.0          10.0         33.0         0.0    Россия, Санкт-Петербург, Большой проспект П.С., 102  2357095685903407888      818.181818              818.181818\n",
       "3              1100874     21000.0      5          0      1       0  35.0           8.0         18.0        11.0              Россия, Санкт-Петербург, Лужская улица, 8  5887402119500981764      600.000000              568.468556\n",
       "4               875413     25000.0     10          0      1       1  44.0          15.0         18.0        10.0          Россия, Санкт-Петербург, Учительская улица, 3  6527910144166454997      568.181818              625.000000"
      ]
     },
     "execution_count": 3,
     "metadata": {},
     "output_type": "execute_result"
    }
   ],
   "source": [
    "rent_df_cleaned.head()"
   ]
  },
  {
   "cell_type": "code",
   "execution_count": 4,
   "id": "73d8219d-cf95-4594-b27f-97d86ec4b8ee",
   "metadata": {
    "tags": []
   },
   "outputs": [],
   "source": [
    "rent_df_cleaned['renovation'] = rent_df_cleaned['renovation'].astype(int)"
   ]
  },
  {
   "cell_type": "code",
   "execution_count": 5,
   "id": "09e634e6-f987-4b7b-b45b-741b94176043",
   "metadata": {
    "tags": []
   },
   "outputs": [],
   "source": [
    "rent_df_cleaned = rent_df_cleaned.drop(['offer_id', 'unified_address', 'kitchen_area' , 'living_area','building_id', 'price_per_sq_m','house_price_sqm_median'], axis=1)"
   ]
  },
  {
   "cell_type": "code",
   "execution_count": 6,
   "id": "8b386a1a-5e43-49e4-a033-359e75019dd9",
   "metadata": {
    "tags": []
   },
   "outputs": [
    {
     "data": {
      "text/html": [
       "<div>\n",
       "<style scoped>\n",
       "    .dataframe tbody tr th:only-of-type {\n",
       "        vertical-align: middle;\n",
       "    }\n",
       "\n",
       "    .dataframe tbody tr th {\n",
       "        vertical-align: top;\n",
       "    }\n",
       "\n",
       "    .dataframe thead th {\n",
       "        text-align: right;\n",
       "    }\n",
       "</style>\n",
       "<table border=\"1\" class=\"dataframe\">\n",
       "  <thead>\n",
       "    <tr style=\"text-align: right;\">\n",
       "      <th></th>\n",
       "      <th>last_price</th>\n",
       "      <th>floor</th>\n",
       "      <th>open_plan</th>\n",
       "      <th>rooms</th>\n",
       "      <th>studio</th>\n",
       "      <th>area</th>\n",
       "      <th>renovation</th>\n",
       "    </tr>\n",
       "  </thead>\n",
       "  <tbody>\n",
       "    <tr>\n",
       "      <th>0</th>\n",
       "      <td>20000.0</td>\n",
       "      <td>7</td>\n",
       "      <td>0</td>\n",
       "      <td>1</td>\n",
       "      <td>0</td>\n",
       "      <td>28.0</td>\n",
       "      <td>3</td>\n",
       "    </tr>\n",
       "    <tr>\n",
       "      <th>1</th>\n",
       "      <td>40000.0</td>\n",
       "      <td>4</td>\n",
       "      <td>0</td>\n",
       "      <td>2</td>\n",
       "      <td>0</td>\n",
       "      <td>72.0</td>\n",
       "      <td>0</td>\n",
       "    </tr>\n",
       "    <tr>\n",
       "      <th>2</th>\n",
       "      <td>45000.0</td>\n",
       "      <td>2</td>\n",
       "      <td>0</td>\n",
       "      <td>2</td>\n",
       "      <td>0</td>\n",
       "      <td>55.0</td>\n",
       "      <td>0</td>\n",
       "    </tr>\n",
       "    <tr>\n",
       "      <th>3</th>\n",
       "      <td>21000.0</td>\n",
       "      <td>5</td>\n",
       "      <td>0</td>\n",
       "      <td>1</td>\n",
       "      <td>0</td>\n",
       "      <td>35.0</td>\n",
       "      <td>11</td>\n",
       "    </tr>\n",
       "    <tr>\n",
       "      <th>4</th>\n",
       "      <td>25000.0</td>\n",
       "      <td>10</td>\n",
       "      <td>0</td>\n",
       "      <td>1</td>\n",
       "      <td>1</td>\n",
       "      <td>44.0</td>\n",
       "      <td>10</td>\n",
       "    </tr>\n",
       "  </tbody>\n",
       "</table>\n",
       "</div>"
      ],
      "text/plain": [
       "   last_price  floor  open_plan  rooms  studio  area  renovation\n",
       "0     20000.0      7          0      1       0  28.0           3\n",
       "1     40000.0      4          0      2       0  72.0           0\n",
       "2     45000.0      2          0      2       0  55.0           0\n",
       "3     21000.0      5          0      1       0  35.0          11\n",
       "4     25000.0     10          0      1       1  44.0          10"
      ]
     },
     "execution_count": 6,
     "metadata": {},
     "output_type": "execute_result"
    }
   ],
   "source": [
    "rent_df_cleaned.head()"
   ]
  },
  {
   "cell_type": "code",
   "execution_count": 7,
   "id": "58c2d562-4336-4006-9a6f-bc711c75849c",
   "metadata": {
    "tags": []
   },
   "outputs": [
    {
     "name": "stdout",
     "output_type": "stream",
     "text": [
      "<class 'pandas.core.frame.DataFrame'>\n",
      "RangeIndex: 155392 entries, 0 to 155391\n",
      "Data columns (total 7 columns):\n",
      " #   Column      Non-Null Count   Dtype  \n",
      "---  ------      --------------   -----  \n",
      " 0   last_price  155392 non-null  float64\n",
      " 1   floor       155392 non-null  int64  \n",
      " 2   open_plan   155392 non-null  int64  \n",
      " 3   rooms       155392 non-null  int64  \n",
      " 4   studio      155392 non-null  int64  \n",
      " 5   area        155392 non-null  float64\n",
      " 6   renovation  155392 non-null  int64  \n",
      "dtypes: float64(2), int64(5)\n",
      "memory usage: 8.3 MB\n"
     ]
    }
   ],
   "source": [
    "rent_df_cleaned.info()"
   ]
  },
  {
   "cell_type": "code",
   "execution_count": 8,
   "id": "3e4071f3-9ded-41ad-b74a-57246743ca1d",
   "metadata": {
    "tags": []
   },
   "outputs": [
    {
     "data": {
      "text/plain": [
       "last_price    0.0\n",
       "floor         0.0\n",
       "open_plan     0.0\n",
       "rooms         0.0\n",
       "studio        0.0\n",
       "area          0.0\n",
       "renovation    0.0\n",
       "dtype: float64"
      ]
     },
     "execution_count": 8,
     "metadata": {},
     "output_type": "execute_result"
    }
   ],
   "source": [
    "# Percentage of Missing Values by Column\n",
    "round(rent_df_cleaned.isna().mean() * 100, 2)"
   ]
  },
  {
   "cell_type": "code",
   "execution_count": 9,
   "id": "bea6fd12-edf4-4d7f-9905-9dc116c28ec6",
   "metadata": {
    "tags": []
   },
   "outputs": [
    {
     "data": {
      "text/plain": [
       "78924"
      ]
     },
     "execution_count": 9,
     "metadata": {},
     "output_type": "execute_result"
    }
   ],
   "source": [
    "# Number of Duplicated Rows\n",
    "rent_df_cleaned.duplicated().sum()"
   ]
  },
  {
   "cell_type": "code",
   "execution_count": 10,
   "id": "0126f7a3-4fa3-4e60-8340-507cb7528d60",
   "metadata": {
    "tags": []
   },
   "outputs": [],
   "source": [
    "rent_df_cleaned = rent_df_cleaned.drop_duplicates() "
   ]
  },
  {
   "cell_type": "code",
   "execution_count": 11,
   "id": "d664bc23-ac8d-4f48-b162-207fa474b0be",
   "metadata": {
    "tags": []
   },
   "outputs": [
    {
     "data": {
      "text/plain": [
       "0"
      ]
     },
     "execution_count": 11,
     "metadata": {},
     "output_type": "execute_result"
    }
   ],
   "source": [
    "# Number of Duplicated Rows\n",
    "rent_df_cleaned.duplicated().sum()"
   ]
  },
  {
   "cell_type": "code",
   "execution_count": 12,
   "id": "1e9cd0d9-6211-4583-9c16-d175d6d61744",
   "metadata": {
    "tags": []
   },
   "outputs": [],
   "source": [
    "# function for constructing a histogram of a feature\n",
    "def bar_chart(column, title):\n",
    "    fig, ax = plt.subplots(figsize=(9, 7))\n",
    "    pivot = pd.DataFrame(rent_df_cleaned.pivot_table(index=column, \n",
    "                                          aggfunc=\"size\").sort_values(ascending=False)).head(15)\n",
    "    sns.barplot(data = pivot, x = pivot.index, y = 0)\n",
    "    plt.title(title, fontsize = 15, pad = 17)\n",
    "    plt.xticks(rotation = 45)\n",
    "    plt.ylabel('Quantity', labelpad = 10)\n",
    "    plt.show()"
   ]
  },
  {
   "cell_type": "code",
   "execution_count": 13,
   "id": "469950c4-9441-4e7b-a5e8-46c553e61ff7",
   "metadata": {
    "tags": []
   },
   "outputs": [
    {
     "data": {
      "image/png": "[encoded data removed]",
      "text/plain": [
       "<Figure size 900x700 with 1 Axes>"
      ]
     },
     "metadata": {},
     "output_type": "display_data"
    }
   ],
   "source": [
    "bar_chart('open_plan', 'Does the apartment have an open plan or not?')"
   ]
  },
  {
   "cell_type": "code",
   "execution_count": 14,
   "id": "c0060b56-3edf-49fb-bb01-a03bcae680e6",
   "metadata": {
    "tags": []
   },
   "outputs": [
    {
     "data": {
      "image/png": "[encoded data removed]",
      "text/plain": [
       "<Figure size 900x700 with 1 Axes>"
      ]
     },
     "metadata": {},
     "output_type": "display_data"
    }
   ],
   "source": [
    "bar_chart('studio', 'Number of studio apartments')"
   ]
  },
  {
   "cell_type": "markdown",
   "id": "91022dac-79e6-4568-9b2b-8dd467a17eab",
   "metadata": {
    "tags": []
   },
   "source": [
    "**Last price**"
   ]
  },
  {
   "cell_type": "code",
   "execution_count": 15,
   "id": "484bfff2-40f8-4ba9-9173-2ea9106b34eb",
   "metadata": {
    "tags": []
   },
   "outputs": [
    {
     "data": {
      "text/plain": [
       "count     76468.000000\n",
       "mean      35961.282393\n",
       "std       24546.772762\n",
       "min        9990.000000\n",
       "25%       21000.000000\n",
       "50%       28000.000000\n",
       "75%       40000.000000\n",
       "max      199000.000000\n",
       "Name: last_price, dtype: float64"
      ]
     },
     "execution_count": 15,
     "metadata": {},
     "output_type": "execute_result"
    },
    {
     "data": {
      "image/png": "[encoded data removed]",
      "text/plain": [
       "<Figure size 900x700 with 1 Axes>"
      ]
     },
     "metadata": {},
     "output_type": "display_data"
    }
   ],
   "source": [
    "rent_df_cleaned['last_price'].hist(bins=100, figsize=(9,7))\n",
    "rent_df_cleaned['last_price'] .describe()"
   ]
  },
  {
   "cell_type": "code",
   "execution_count": 16,
   "id": "5d40f15d-2694-43eb-ae61-90e5baf23f62",
   "metadata": {
    "tags": []
   },
   "outputs": [],
   "source": [
    "# Function to eliminate anomalies (lower and upper bound)\n",
    "def anomaly_2 (data, colomn):\n",
    "    anomaly_min = round(data[colomn].quantile(0.01),2) \n",
    "    anomaly_max = round(data[colomn].quantile(0.99),2)\n",
    "    print('Нижняя граница выбросов', colomn,':',anomaly_min)\n",
    "    print('Верхняя граница выбросов', colomn,':',anomaly_max)\n",
    "    return data.loc[(data[colomn] >= anomaly_min) & (data[colomn] <= anomaly_max)]"
   ]
  },
  {
   "cell_type": "code",
   "execution_count": 17,
   "id": "17d21d3e-24e7-4f64-96ee-d4d3c2b5aa67",
   "metadata": {
    "tags": []
   },
   "outputs": [
    {
     "name": "stdout",
     "output_type": "stream",
     "text": [
      "Нижняя граница выбросов last_price : 14000.0\n",
      "Верхняя граница выбросов last_price : 145000.0\n"
     ]
    }
   ],
   "source": [
    "# Remove anomalous values\n",
    "rent_df_cleaned = anomaly_2 (rent_df_cleaned, 'last_price')"
   ]
  },
  {
   "cell_type": "markdown",
   "id": "d8423f36-107e-443e-bb72-353ed887f8e5",
   "metadata": {},
   "source": [
    "**Floor**"
   ]
  },
  {
   "cell_type": "code",
   "execution_count": 18,
   "id": "dcd9cb7d-6279-41f4-aadd-9e5de1dd0d9b",
   "metadata": {
    "tags": []
   },
   "outputs": [
    {
     "data": {
      "text/plain": [
       "count    75022.000000\n",
       "mean         7.570806\n",
       "std          5.611963\n",
       "min          1.000000\n",
       "25%          3.000000\n",
       "50%          6.000000\n",
       "75%         11.000000\n",
       "max         92.000000\n",
       "Name: floor, dtype: float64"
      ]
     },
     "execution_count": 18,
     "metadata": {},
     "output_type": "execute_result"
    },
    {
     "data": {
      "image/png": "[encoded data removed]",
      "text/plain": [
       "<Figure size 900x700 with 1 Axes>"
      ]
     },
     "metadata": {},
     "output_type": "display_data"
    }
   ],
   "source": [
    "rent_df_cleaned['floor'].hist(bins=100, figsize=(9,7))\n",
    "rent_df_cleaned['floor'] .describe()"
   ]
  },
  {
   "cell_type": "code",
   "execution_count": 19,
   "id": "b092d928-0852-4b98-b772-2b80ce97abec",
   "metadata": {
    "tags": []
   },
   "outputs": [
    {
     "name": "stdout",
     "output_type": "stream",
     "text": [
      "Нижняя граница выбросов floor : 1.0\n",
      "Верхняя граница выбросов floor : 24.0\n"
     ]
    }
   ],
   "source": [
    "# Remove anomalous values\n",
    "rent_df_cleaned = anomaly_2 (rent_df_cleaned, 'floor')"
   ]
  },
  {
   "cell_type": "markdown",
   "id": "efbe6dcd-6683-4fb8-acc1-6f7ea235622f",
   "metadata": {},
   "source": [
    "**rooms**"
   ]
  },
  {
   "cell_type": "code",
   "execution_count": 20,
   "id": "8b95ff15-2b81-473f-b65d-69907803d3ab",
   "metadata": {
    "tags": []
   },
   "outputs": [
    {
     "data": {
      "text/plain": [
       "count    74515.000000\n",
       "mean         1.705563\n",
       "std          0.993740\n",
       "min          0.000000\n",
       "25%          1.000000\n",
       "50%          2.000000\n",
       "75%          2.000000\n",
       "max          5.000000\n",
       "Name: rooms, dtype: float64"
      ]
     },
     "execution_count": 20,
     "metadata": {},
     "output_type": "execute_result"
    },
    {
     "data": {
      "image/png": "[encoded data removed]",
      "text/plain": [
       "<Figure size 900x700 with 1 Axes>"
      ]
     },
     "metadata": {},
     "output_type": "display_data"
    }
   ],
   "source": [
    "rent_df_cleaned['rooms'].hist(bins=100, figsize=(9,7))\n",
    "rent_df_cleaned['rooms'] .describe()"
   ]
  },
  {
   "cell_type": "markdown",
   "id": "dbcb6c96-fb8e-4010-a267-b43ea164cb6b",
   "metadata": {
    "tags": []
   },
   "source": [
    "**Area**"
   ]
  },
  {
   "cell_type": "code",
   "execution_count": 21,
   "id": "eae167c5-b61f-485e-abae-6541a697f1d2",
   "metadata": {
    "tags": []
   },
   "outputs": [
    {
     "data": {
      "text/plain": [
       "count    74515.000000\n",
       "mean        58.111152\n",
       "std         27.019167\n",
       "min         11.000000\n",
       "25%         39.000000\n",
       "50%         52.000000\n",
       "75%         70.000000\n",
       "max        200.000000\n",
       "Name: area, dtype: float64"
      ]
     },
     "execution_count": 21,
     "metadata": {},
     "output_type": "execute_result"
    },
    {
     "data": {
      "image/png": "[encoded data removed]",
      "text/plain": [
       "<Figure size 900x700 with 1 Axes>"
      ]
     },
     "metadata": {},
     "output_type": "display_data"
    }
   ],
   "source": [
    "rent_df_cleaned['area'].hist(bins=100, figsize=(9,7))\n",
    "rent_df_cleaned['area'] .describe()"
   ]
  },
  {
   "cell_type": "code",
   "execution_count": 22,
   "id": "b6f9bdca-18c6-4e3a-b0bf-a222efdd4584",
   "metadata": {
    "tags": []
   },
   "outputs": [
    {
     "name": "stdout",
     "output_type": "stream",
     "text": [
      "Нижняя граница выбросов area : 23.0\n",
      "Верхняя граница выбросов area : 153.0\n"
     ]
    }
   ],
   "source": [
    "# Remove anomalous values\n",
    "rent_df_cleaned = anomaly_2 (rent_df_cleaned, 'area')"
   ]
  },
  {
   "cell_type": "code",
   "execution_count": 23,
   "id": "0bb0d063-e457-4911-8dec-75da855d0f59",
   "metadata": {
    "tags": []
   },
   "outputs": [
    {
     "data": {
      "image/png": "[encoded data removed]",
      "text/plain": [
       "<Figure size 1500x500 with 2 Axes>"
      ]
     },
     "metadata": {},
     "output_type": "display_data"
    }
   ],
   "source": [
    "plt.figure(figsize = (15, 5)) \n",
    "sns.heatmap(rent_df_cleaned.corr(), annot = True, vmin=-1, vmax=1)\n",
    "plt.title('Correlation of features in a dataset', fontweight = \"bold\", fontsize = 18, pad = 15)\n",
    "plt.show();"
   ]
  },
  {
   "cell_type": "markdown",
   "id": "8b73bf91-0861-4d50-ae04-6f71f248acc5",
   "metadata": {},
   "source": [
    "### Create datasets training, testing and a holdout dataset."
   ]
  },
  {
   "cell_type": "code",
   "execution_count": 24,
   "id": "d4b14913-255a-4d45-9257-48035d2239ea",
   "metadata": {
    "tags": []
   },
   "outputs": [],
   "source": [
    "features = rent_df_cleaned.drop('last_price', axis=1)\n",
    "target = rent_df_cleaned['last_price']\n",
    "\n",
    "# It is necessary to split the data into a training and validation set\n",
    "features_train, features_valid_test, target_train, target_valid_test = train_test_split(\n",
    "    features, target, test_size = 0.40, random_state = 12345)\n",
    "features_valid, features_test, target_valid, target_test = train_test_split(\n",
    "    features_valid_test, target_valid_test, test_size = 0.50, random_state = 12345)"
   ]
  },
  {
   "cell_type": "code",
   "execution_count": 25,
   "id": "1136bb80-59eb-452f-bf51-d9cd9c1da81c",
   "metadata": {
    "tags": []
   },
   "outputs": [
    {
     "name": "stdout",
     "output_type": "stream",
     "text": [
      "Training set size:\n"
     ]
    },
    {
     "data": {
      "text/plain": [
       "(43862, 6)"
      ]
     },
     "metadata": {},
     "output_type": "display_data"
    },
    {
     "data": {
      "text/plain": [
       "(43862,)"
      ]
     },
     "metadata": {},
     "output_type": "display_data"
    },
    {
     "name": "stdout",
     "output_type": "stream",
     "text": [
      "Validation set size:\n"
     ]
    },
    {
     "data": {
      "text/plain": [
       "(14621, 6)"
      ]
     },
     "metadata": {},
     "output_type": "display_data"
    },
    {
     "data": {
      "text/plain": [
       "(14621,)"
      ]
     },
     "metadata": {},
     "output_type": "display_data"
    },
    {
     "name": "stdout",
     "output_type": "stream",
     "text": [
      "Test set size:\n"
     ]
    },
    {
     "data": {
      "text/plain": [
       "(14621, 6)"
      ]
     },
     "metadata": {},
     "output_type": "display_data"
    },
    {
     "data": {
      "text/plain": [
       "(14621,)"
      ]
     },
     "metadata": {},
     "output_type": "display_data"
    }
   ],
   "source": [
    "print(f'Training set size:')\n",
    "display(features_train.shape)\n",
    "display(target_train.shape)\n",
    "\n",
    "print(f'Validation set size:')\n",
    "display(features_valid.shape)\n",
    "display(target_valid.shape)\n",
    "\n",
    "print(f'Test set size:')\n",
    "display(features_test.shape)\n",
    "display(target_test.shape)"
   ]
  },
  {
   "cell_type": "code",
   "execution_count": 26,
   "id": "a9c91367-ee3b-4eaf-aeb1-e7159ead1f60",
   "metadata": {
    "tags": []
   },
   "outputs": [],
   "source": [
    "sc_X = StandardScaler()\n",
    "sc_y = StandardScaler()\n",
    "\n",
    "features_train = sc_X.fit_transform(features_train)\n",
    "features_valid = sc_X.fit_transform(features_valid)\n",
    "features_test = sc_X.fit_transform(features_test)\n",
    "target_train= target_train.values.reshape(-1,1)\n",
    "target_valid= target_valid.values.reshape(-1,1)\n",
    "target_test= target_test.values.reshape(-1,1)\n",
    "target_train = sc_y.fit_transform(target_train)\n",
    "target_valid = sc_y.fit_transform(target_valid)\n",
    "target_test = sc_y.fit_transform(target_test)"
   ]
  },
  {
   "cell_type": "markdown",
   "id": "40461f79-1ae0-48e7-a359-17d05d90e5fe",
   "metadata": {},
   "source": [
    "### Model training"
   ]
  },
  {
   "cell_type": "markdown",
   "id": "bcdf9c44-1735-477c-8efb-4831c1145803",
   "metadata": {},
   "source": [
    "#### LinearRegression"
   ]
  },
  {
   "cell_type": "code",
   "execution_count": 27,
   "id": "bea7bd58-7eff-4843-9c80-f4929174fd65",
   "metadata": {
    "tags": []
   },
   "outputs": [
    {
     "data": {
      "text/html": [
       "<style>#sk-container-id-1 {color: black;background-color: white;}#sk-container-id-1 pre{padding: 0;}#sk-container-id-1 div.sk-toggleable {background-color: white;}#sk-container-id-1 label.sk-toggleable__label {cursor: pointer;display: block;width: 100%;margin-bottom: 0;padding: 0.3em;box-sizing: border-box;text-align: center;}#sk-container-id-1 label.sk-toggleable__label-arrow:before {content: \"▸\";float: left;margin-right: 0.25em;color: #696969;}#sk-container-id-1 label.sk-toggleable__label-arrow:hover:before {color: black;}#sk-container-id-1 div.sk-estimator:hover label.sk-toggleable__label-arrow:before {color: black;}#sk-container-id-1 div.sk-toggleable__content {max-height: 0;max-width: 0;overflow: hidden;text-align: left;background-color: #f0f8ff;}#sk-container-id-1 div.sk-toggleable__content pre {margin: 0.2em;color: black;border-radius: 0.25em;background-color: #f0f8ff;}#sk-container-id-1 input.sk-toggleable__control:checked~div.sk-toggleable__content {max-height: 200px;max-width: 100%;overflow: auto;}#sk-container-id-1 input.sk-toggleable__control:checked~label.sk-toggleable__label-arrow:before {content: \"▾\";}#sk-container-id-1 div.sk-estimator input.sk-toggleable__control:checked~label.sk-toggleable__label {background-color: #d4ebff;}#sk-container-id-1 div.sk-label input.sk-toggleable__control:checked~label.sk-toggleable__label {background-color: #d4ebff;}#sk-container-id-1 input.sk-hidden--visually {border: 0;clip: rect(1px 1px 1px 1px);clip: rect(1px, 1px, 1px, 1px);height: 1px;margin: -1px;overflow: hidden;padding: 0;position: absolute;width: 1px;}#sk-container-id-1 div.sk-estimator {font-family: monospace;background-color: #f0f8ff;border: 1px dotted black;border-radius: 0.25em;box-sizing: border-box;margin-bottom: 0.5em;}#sk-container-id-1 div.sk-estimator:hover {background-color: #d4ebff;}#sk-container-id-1 div.sk-parallel-item::after {content: \"\";width: 100%;border-bottom: 1px solid gray;flex-grow: 1;}#sk-container-id-1 div.sk-label:hover label.sk-toggleable__label {background-color: #d4ebff;}#sk-container-id-1 div.sk-serial::before {content: \"\";position: absolute;border-left: 1px solid gray;box-sizing: border-box;top: 0;bottom: 0;left: 50%;z-index: 0;}#sk-container-id-1 div.sk-serial {display: flex;flex-direction: column;align-items: center;background-color: white;padding-right: 0.2em;padding-left: 0.2em;position: relative;}#sk-container-id-1 div.sk-item {position: relative;z-index: 1;}#sk-container-id-1 div.sk-parallel {display: flex;align-items: stretch;justify-content: center;background-color: white;position: relative;}#sk-container-id-1 div.sk-item::before, #sk-container-id-1 div.sk-parallel-item::before {content: \"\";position: absolute;border-left: 1px solid gray;box-sizing: border-box;top: 0;bottom: 0;left: 50%;z-index: -1;}#sk-container-id-1 div.sk-parallel-item {display: flex;flex-direction: column;z-index: 1;position: relative;background-color: white;}#sk-container-id-1 div.sk-parallel-item:first-child::after {align-self: flex-end;width: 50%;}#sk-container-id-1 div.sk-parallel-item:last-child::after {align-self: flex-start;width: 50%;}#sk-container-id-1 div.sk-parallel-item:only-child::after {width: 0;}#sk-container-id-1 div.sk-dashed-wrapped {border: 1px dashed gray;margin: 0 0.4em 0.5em 0.4em;box-sizing: border-box;padding-bottom: 0.4em;background-color: white;}#sk-container-id-1 div.sk-label label {font-family: monospace;font-weight: bold;display: inline-block;line-height: 1.2em;}#sk-container-id-1 div.sk-label-container {text-align: center;}#sk-container-id-1 div.sk-container {/* jupyter's `normalize.less` sets `[hidden] { display: none; }` but bootstrap.min.css set `[hidden] { display: none !important; }` so we also need the `!important` here to be able to override the default hidden behavior on the sphinx rendered scikit-learn.org. See: https://github.com/scikit-learn/scikit-learn/issues/21755 */display: inline-block !important;position: relative;}#sk-container-id-1 div.sk-text-repr-fallback {display: none;}</style><div id=\"sk-container-id-1\" class=\"sk-top-container\"><div class=\"sk-text-repr-fallback\"><pre>LinearRegression(n_jobs=-1)</pre><b>In a Jupyter environment, please rerun this cell to show the HTML representation or trust the notebook. <br />On GitHub, the HTML representation is unable to render, please try loading this page with nbviewer.org.</b></div><div class=\"sk-container\" hidden><div class=\"sk-item\"><div class=\"sk-estimator sk-toggleable\"><input class=\"sk-toggleable__control sk-hidden--visually\" id=\"sk-estimator-id-1\" type=\"checkbox\" checked><label for=\"sk-estimator-id-1\" class=\"sk-toggleable__label sk-toggleable__label-arrow\">LinearRegression</label><div class=\"sk-toggleable__content\"><pre>LinearRegression(n_jobs=-1)</pre></div></div></div></div></div>"
      ],
      "text/plain": [
       "LinearRegression(n_jobs=-1)"
      ]
     },
     "execution_count": 27,
     "metadata": {},
     "output_type": "execute_result"
    }
   ],
   "source": [
    "model_lr = LinearRegression(n_jobs = -1)\n",
    "model_lr.fit(features_train, target_train)"
   ]
  },
  {
   "cell_type": "code",
   "execution_count": 28,
   "id": "0385ffe0-d812-4485-82c6-75dcae2de435",
   "metadata": {
    "tags": []
   },
   "outputs": [],
   "source": [
    "prediction_lr = model_lr.predict(features_valid)"
   ]
  },
  {
   "cell_type": "code",
   "execution_count": 29,
   "id": "a57f418b-f94e-4e1d-bfc2-2063c29a29c3",
   "metadata": {
    "tags": []
   },
   "outputs": [],
   "source": [
    "MAE_lr = metrics.mean_absolute_error(target_valid, prediction_lr)\n",
    "RMSE_lr = np.sqrt(metrics.mean_squared_error(target_valid, prediction_lr))\n",
    "MAPE_lr = metrics.mean_absolute_percentage_error(target_valid, prediction_lr)"
   ]
  },
  {
   "cell_type": "code",
   "execution_count": 30,
   "id": "74bf6068-e94d-4e7b-b65e-9cd32d39618b",
   "metadata": {
    "tags": []
   },
   "outputs": [
    {
     "data": {
      "text/html": [
       "<div>\n",
       "<style scoped>\n",
       "    .dataframe tbody tr th:only-of-type {\n",
       "        vertical-align: middle;\n",
       "    }\n",
       "\n",
       "    .dataframe tbody tr th {\n",
       "        vertical-align: top;\n",
       "    }\n",
       "\n",
       "    .dataframe thead th {\n",
       "        text-align: right;\n",
       "    }\n",
       "</style>\n",
       "<table border=\"1\" class=\"dataframe\">\n",
       "  <thead>\n",
       "    <tr style=\"text-align: right;\">\n",
       "      <th></th>\n",
       "      <th>MAE</th>\n",
       "      <th>MAPE</th>\n",
       "      <th>RSME</th>\n",
       "    </tr>\n",
       "  </thead>\n",
       "  <tbody>\n",
       "    <tr>\n",
       "      <th>LinearRegression</th>\n",
       "      <td>0.459576</td>\n",
       "      <td>1.943975</td>\n",
       "      <td>0.67022</td>\n",
       "    </tr>\n",
       "  </tbody>\n",
       "</table>\n",
       "</div>"
      ],
      "text/plain": [
       "                       MAE      MAPE     RSME\n",
       "LinearRegression  0.459576  1.943975  0.67022"
      ]
     },
     "execution_count": 30,
     "metadata": {},
     "output_type": "execute_result"
    }
   ],
   "source": [
    "model_characteristics = {\n",
    "    'LinearRegression': {\n",
    "        'MAE': MAE_lr,\n",
    "        'RSME': RMSE_lr,\n",
    "        'MAPE': MAPE_lr\n",
    "    },\n",
    "}\n",
    "info = pd.DataFrame(model_characteristics).T\n",
    "info"
   ]
  },
  {
   "cell_type": "markdown",
   "id": "21d1b1da-c0e2-411d-a49c-ca1e040f8d9e",
   "metadata": {},
   "source": [
    "#### DecisionTreeRegressor"
   ]
  },
  {
   "cell_type": "code",
   "execution_count": 31,
   "id": "cc4bb20c-9f88-4ad1-865a-d288c2a7ac86",
   "metadata": {},
   "outputs": [],
   "source": [
    "modeldtr = DecisionTreeRegressor()\n",
    "params = {\n",
    "    'splitter' : ['best', 'random'],\n",
    "    'random_state' : [42],\n",
    "    'max_depth' : np.arange(1, 40)\n",
    "}\n",
    "grid_cvd = GridSearchCV(estimator = modeldtr, param_grid = params, cv=3, n_jobs = -1, scoring='neg_mean_squared_error')"
   ]
  },
  {
   "cell_type": "code",
   "execution_count": 32,
   "id": "2700dd10-f94f-4e2a-a860-7b3f9716e72c",
   "metadata": {
    "tags": []
   },
   "outputs": [
    {
     "name": "stdout",
     "output_type": "stream",
     "text": [
      "f Best hyperparams:  {'max_depth': 7, 'random_state': 42, 'splitter': 'best'}\n",
      "RMSE score on train sample: 0.66\n",
      "\n",
      "CPU times: user 185 ms, sys: 59.3 ms, total: 244 ms\n",
      "Wall time: 3.62 s\n"
     ]
    }
   ],
   "source": [
    "%%time\n",
    "\n",
    "grid_cvd.fit(features_train, target_train)\n",
    "dtr_params = grid_cvd.best_params_\n",
    "print('f Best hyperparams: ', grid_cvd.best_params_)\n",
    "print(f'RMSE score on train sample: {round((-grid_cvd.best_score_) ** 0.5, 2)}\\n')"
   ]
  },
  {
   "cell_type": "code",
   "execution_count": 33,
   "id": "690bffa4-320d-4273-9cf8-0a777a815669",
   "metadata": {
    "tags": []
   },
   "outputs": [],
   "source": [
    "model_DTR = DecisionTreeRegressor(max_depth = 7, splitter = 'best', \n",
    "                                 random_state = 42)"
   ]
  },
  {
   "cell_type": "code",
   "execution_count": 34,
   "id": "ebbcb4c1-5ce7-4a32-b209-c4f379dc0949",
   "metadata": {
    "tags": []
   },
   "outputs": [
    {
     "data": {
      "text/html": [
       "<style>#sk-container-id-2 {color: black;background-color: white;}#sk-container-id-2 pre{padding: 0;}#sk-container-id-2 div.sk-toggleable {background-color: white;}#sk-container-id-2 label.sk-toggleable__label {cursor: pointer;display: block;width: 100%;margin-bottom: 0;padding: 0.3em;box-sizing: border-box;text-align: center;}#sk-container-id-2 label.sk-toggleable__label-arrow:before {content: \"▸\";float: left;margin-right: 0.25em;color: #696969;}#sk-container-id-2 label.sk-toggleable__label-arrow:hover:before {color: black;}#sk-container-id-2 div.sk-estimator:hover label.sk-toggleable__label-arrow:before {color: black;}#sk-container-id-2 div.sk-toggleable__content {max-height: 0;max-width: 0;overflow: hidden;text-align: left;background-color: #f0f8ff;}#sk-container-id-2 div.sk-toggleable__content pre {margin: 0.2em;color: black;border-radius: 0.25em;background-color: #f0f8ff;}#sk-container-id-2 input.sk-toggleable__control:checked~div.sk-toggleable__content {max-height: 200px;max-width: 100%;overflow: auto;}#sk-container-id-2 input.sk-toggleable__control:checked~label.sk-toggleable__label-arrow:before {content: \"▾\";}#sk-container-id-2 div.sk-estimator input.sk-toggleable__control:checked~label.sk-toggleable__label {background-color: #d4ebff;}#sk-container-id-2 div.sk-label input.sk-toggleable__control:checked~label.sk-toggleable__label {background-color: #d4ebff;}#sk-container-id-2 input.sk-hidden--visually {border: 0;clip: rect(1px 1px 1px 1px);clip: rect(1px, 1px, 1px, 1px);height: 1px;margin: -1px;overflow: hidden;padding: 0;position: absolute;width: 1px;}#sk-container-id-2 div.sk-estimator {font-family: monospace;background-color: #f0f8ff;border: 1px dotted black;border-radius: 0.25em;box-sizing: border-box;margin-bottom: 0.5em;}#sk-container-id-2 div.sk-estimator:hover {background-color: #d4ebff;}#sk-container-id-2 div.sk-parallel-item::after {content: \"\";width: 100%;border-bottom: 1px solid gray;flex-grow: 1;}#sk-container-id-2 div.sk-label:hover label.sk-toggleable__label {background-color: #d4ebff;}#sk-container-id-2 div.sk-serial::before {content: \"\";position: absolute;border-left: 1px solid gray;box-sizing: border-box;top: 0;bottom: 0;left: 50%;z-index: 0;}#sk-container-id-2 div.sk-serial {display: flex;flex-direction: column;align-items: center;background-color: white;padding-right: 0.2em;padding-left: 0.2em;position: relative;}#sk-container-id-2 div.sk-item {position: relative;z-index: 1;}#sk-container-id-2 div.sk-parallel {display: flex;align-items: stretch;justify-content: center;background-color: white;position: relative;}#sk-container-id-2 div.sk-item::before, #sk-container-id-2 div.sk-parallel-item::before {content: \"\";position: absolute;border-left: 1px solid gray;box-sizing: border-box;top: 0;bottom: 0;left: 50%;z-index: -1;}#sk-container-id-2 div.sk-parallel-item {display: flex;flex-direction: column;z-index: 1;position: relative;background-color: white;}#sk-container-id-2 div.sk-parallel-item:first-child::after {align-self: flex-end;width: 50%;}#sk-container-id-2 div.sk-parallel-item:last-child::after {align-self: flex-start;width: 50%;}#sk-container-id-2 div.sk-parallel-item:only-child::after {width: 0;}#sk-container-id-2 div.sk-dashed-wrapped {border: 1px dashed gray;margin: 0 0.4em 0.5em 0.4em;box-sizing: border-box;padding-bottom: 0.4em;background-color: white;}#sk-container-id-2 div.sk-label label {font-family: monospace;font-weight: bold;display: inline-block;line-height: 1.2em;}#sk-container-id-2 div.sk-label-container {text-align: center;}#sk-container-id-2 div.sk-container {/* jupyter's `normalize.less` sets `[hidden] { display: none; }` but bootstrap.min.css set `[hidden] { display: none !important; }` so we also need the `!important` here to be able to override the default hidden behavior on the sphinx rendered scikit-learn.org. See: https://github.com/scikit-learn/scikit-learn/issues/21755 */display: inline-block !important;position: relative;}#sk-container-id-2 div.sk-text-repr-fallback {display: none;}</style><div id=\"sk-container-id-2\" class=\"sk-top-container\"><div class=\"sk-text-repr-fallback\"><pre>DecisionTreeRegressor(max_depth=7, random_state=42)</pre><b>In a Jupyter environment, please rerun this cell to show the HTML representation or trust the notebook. <br />On GitHub, the HTML representation is unable to render, please try loading this page with nbviewer.org.</b></div><div class=\"sk-container\" hidden><div class=\"sk-item\"><div class=\"sk-estimator sk-toggleable\"><input class=\"sk-toggleable__control sk-hidden--visually\" id=\"sk-estimator-id-2\" type=\"checkbox\" checked><label for=\"sk-estimator-id-2\" class=\"sk-toggleable__label sk-toggleable__label-arrow\">DecisionTreeRegressor</label><div class=\"sk-toggleable__content\"><pre>DecisionTreeRegressor(max_depth=7, random_state=42)</pre></div></div></div></div></div>"
      ],
      "text/plain": [
       "DecisionTreeRegressor(max_depth=7, random_state=42)"
      ]
     },
     "execution_count": 34,
     "metadata": {},
     "output_type": "execute_result"
    }
   ],
   "source": [
    "model_DTR.fit(features_train, target_train)"
   ]
  },
  {
   "cell_type": "code",
   "execution_count": 35,
   "id": "fc310f73-0497-4dc0-8a82-c9a0f0a0c4c6",
   "metadata": {
    "tags": []
   },
   "outputs": [],
   "source": [
    "prediction_rt = model_DTR.predict(features_valid)"
   ]
  },
  {
   "cell_type": "code",
   "execution_count": 36,
   "id": "727113b3-2bdf-478d-82c1-122d2b831d7d",
   "metadata": {
    "tags": []
   },
   "outputs": [],
   "source": [
    "MAE_rt = metrics.mean_absolute_error(target_valid, prediction_rt)\n",
    "RMSE_rt = np.sqrt(metrics.mean_squared_error(target_valid, prediction_rt))\n",
    "MAPE_rt = metrics.mean_absolute_percentage_error(target_valid, prediction_rt)"
   ]
  },
  {
   "cell_type": "code",
   "execution_count": 37,
   "id": "b2ec0872-88be-4057-9a87-787e3c6cd678",
   "metadata": {
    "tags": []
   },
   "outputs": [
    {
     "data": {
      "text/html": [
       "<div>\n",
       "<style scoped>\n",
       "    .dataframe tbody tr th:only-of-type {\n",
       "        vertical-align: middle;\n",
       "    }\n",
       "\n",
       "    .dataframe tbody tr th {\n",
       "        vertical-align: top;\n",
       "    }\n",
       "\n",
       "    .dataframe thead th {\n",
       "        text-align: right;\n",
       "    }\n",
       "</style>\n",
       "<table border=\"1\" class=\"dataframe\">\n",
       "  <thead>\n",
       "    <tr style=\"text-align: right;\">\n",
       "      <th></th>\n",
       "      <th>MAE</th>\n",
       "      <th>RSME</th>\n",
       "      <th>MAPE</th>\n",
       "    </tr>\n",
       "  </thead>\n",
       "  <tbody>\n",
       "    <tr>\n",
       "      <th>LinearRegression</th>\n",
       "      <td>0.459576</td>\n",
       "      <td>0.670220</td>\n",
       "      <td>1.943975</td>\n",
       "    </tr>\n",
       "    <tr>\n",
       "      <th>DecisionTreeRegressor</th>\n",
       "      <td>0.432542</td>\n",
       "      <td>0.654643</td>\n",
       "      <td>1.854914</td>\n",
       "    </tr>\n",
       "  </tbody>\n",
       "</table>\n",
       "</div>"
      ],
      "text/plain": [
       "                            MAE      RSME      MAPE\n",
       "LinearRegression       0.459576  0.670220  1.943975\n",
       "DecisionTreeRegressor  0.432542  0.654643  1.854914"
      ]
     },
     "execution_count": 37,
     "metadata": {},
     "output_type": "execute_result"
    }
   ],
   "source": [
    "model_characteristics['DecisionTreeRegressor'] = {\n",
    "        'MAE': MAE_rt,\n",
    "        'RSME': RMSE_rt,\n",
    "        'MAPE': MAPE_rt\n",
    "}\n",
    "info = pd.DataFrame(model_characteristics).T\n",
    "info"
   ]
  },
  {
   "cell_type": "markdown",
   "id": "a99a1720-62c7-4f43-bc71-9549dbf96ff8",
   "metadata": {},
   "source": [
    "#### CatBoostRegressor"
   ]
  },
  {
   "cell_type": "code",
   "execution_count": 38,
   "id": "72439d3c-3097-4c83-8a01-ded8fe054788",
   "metadata": {
    "tags": []
   },
   "outputs": [],
   "source": [
    "model = CatBoostRegressor()\n",
    "params = {\n",
    "    'n_estimators' : [500, 800, 1000],\n",
    "    'learning_rate': [0.03, 0.1],\n",
    "    'random_state' : [42],\n",
    "    'max_depth' : [5, 7, 10, 12],\n",
    "    'verbose':[0]\n",
    "}\n",
    "grid_cv = GridSearchCV(estimator = model, param_grid = params, cv=3, n_jobs = -1, scoring='neg_mean_squared_error')"
   ]
  },
  {
   "cell_type": "code",
   "execution_count": 39,
   "id": "10e1193f-bbe2-4795-b52c-6a504be30716",
   "metadata": {
    "tags": []
   },
   "outputs": [
    {
     "name": "stderr",
     "output_type": "stream",
     "text": [
      "/opt/conda/lib/python3.10/site-packages/joblib/externals/loky/process_executor.py:700: UserWarning: A worker stopped while some jobs were given to the executor. This can be caused by a too short worker timeout or by a memory leak.\n",
      "  warnings.warn(\n"
     ]
    },
    {
     "name": "stdout",
     "output_type": "stream",
     "text": [
      "f Best hyperparams:  {'learning_rate': 0.03, 'max_depth': 7, 'n_estimators': 500, 'random_state': 42, 'verbose': 0}\n",
      "RMSE score on train sample: 0.64\n",
      "\n",
      "CPU times: user 3.82 s, sys: 233 ms, total: 4.06 s\n",
      "Wall time: 4min 27s\n"
     ]
    }
   ],
   "source": [
    "%%time\n",
    "\n",
    "grid_cv.fit(features_train, target_train)\n",
    "cat_params = grid_cv.best_params_\n",
    "print('f Best hyperparams: ', grid_cv.best_params_)\n",
    "print(f'RMSE score on train sample: {round((-grid_cv.best_score_) ** 0.5, 2)}\\n')"
   ]
  },
  {
   "cell_type": "code",
   "execution_count": 40,
   "id": "6f2fdc71-1ade-4357-9aa8-2c66883e02a2",
   "metadata": {
    "tags": []
   },
   "outputs": [
    {
     "data": {
      "text/plain": [
       "<catboost.core.CatBoostRegressor at 0x7f5d51d0e230>"
      ]
     },
     "execution_count": 40,
     "metadata": {},
     "output_type": "execute_result"
    }
   ],
   "source": [
    "model_CB = CatBoostRegressor(learning_rate = 0.03, max_depth = 5, n_estimators = 500, random_state = 42, \n",
    "                             verbose = 0)\n",
    "model_CB.fit(features_train, target_train)"
   ]
  },
  {
   "cell_type": "code",
   "execution_count": 41,
   "id": "1013382c-70cd-4377-8366-f3bde627a454",
   "metadata": {
    "tags": []
   },
   "outputs": [],
   "source": [
    "predictions_CB = model_CB.predict(features_valid)"
   ]
  },
  {
   "cell_type": "code",
   "execution_count": 42,
   "id": "ef706823-e84f-4a7b-ae79-39a9069b50d7",
   "metadata": {
    "tags": []
   },
   "outputs": [],
   "source": [
    "MAE_cat = metrics.mean_absolute_error(target_valid, predictions_CB)\n",
    "RMSE_cat = np.sqrt(metrics.mean_squared_error(target_valid, predictions_CB))\n",
    "MAPE_cat = metrics.mean_absolute_percentage_error(target_valid, predictions_CB)"
   ]
  },
  {
   "cell_type": "code",
   "execution_count": 43,
   "id": "219bb3fa-2952-43c9-a6b6-13247be890a2",
   "metadata": {
    "tags": []
   },
   "outputs": [
    {
     "data": {
      "text/html": [
       "<div>\n",
       "<style scoped>\n",
       "    .dataframe tbody tr th:only-of-type {\n",
       "        vertical-align: middle;\n",
       "    }\n",
       "\n",
       "    .dataframe tbody tr th {\n",
       "        vertical-align: top;\n",
       "    }\n",
       "\n",
       "    .dataframe thead th {\n",
       "        text-align: right;\n",
       "    }\n",
       "</style>\n",
       "<table border=\"1\" class=\"dataframe\">\n",
       "  <thead>\n",
       "    <tr style=\"text-align: right;\">\n",
       "      <th></th>\n",
       "      <th>MAE</th>\n",
       "      <th>RSME</th>\n",
       "      <th>MAPE</th>\n",
       "    </tr>\n",
       "  </thead>\n",
       "  <tbody>\n",
       "    <tr>\n",
       "      <th>LinearRegression</th>\n",
       "      <td>0.459576</td>\n",
       "      <td>0.670220</td>\n",
       "      <td>1.943975</td>\n",
       "    </tr>\n",
       "    <tr>\n",
       "      <th>DecisionTreeRegressor</th>\n",
       "      <td>0.432542</td>\n",
       "      <td>0.654643</td>\n",
       "      <td>1.854914</td>\n",
       "    </tr>\n",
       "    <tr>\n",
       "      <th>CatBoostRegressor</th>\n",
       "      <td>0.426540</td>\n",
       "      <td>0.641263</td>\n",
       "      <td>1.828946</td>\n",
       "    </tr>\n",
       "  </tbody>\n",
       "</table>\n",
       "</div>"
      ],
      "text/plain": [
       "                            MAE      RSME      MAPE\n",
       "LinearRegression       0.459576  0.670220  1.943975\n",
       "DecisionTreeRegressor  0.432542  0.654643  1.854914\n",
       "CatBoostRegressor      0.426540  0.641263  1.828946"
      ]
     },
     "execution_count": 43,
     "metadata": {},
     "output_type": "execute_result"
    }
   ],
   "source": [
    "model_characteristics['CatBoostRegressor'] = {\n",
    "        'MAE': MAE_cat,\n",
    "        'RSME': RMSE_cat,\n",
    "        'MAPE': MAPE_cat\n",
    "    }\n",
    "info = pd.DataFrame(model_characteristics).T\n",
    "info"
   ]
  },
  {
   "cell_type": "markdown",
   "id": "31e5bcec-928a-493a-905c-7d00dd87e3f6",
   "metadata": {},
   "source": [
    "#### LightGBM"
   ]
  },
  {
   "cell_type": "code",
   "execution_count": 44,
   "id": "3e52ad50-7389-43a9-b20d-4c6b7c389331",
   "metadata": {
    "tags": []
   },
   "outputs": [],
   "source": [
    "model_LGBM = LGBMRegressor()\n",
    "params = {\n",
    "    'metric': ['l2'],\n",
    "    'max_depth':np.arange(1, 10),\n",
    "    'n_estimators':np.arange(100, 1600, 100),\n",
    "    'boosting_type': ['gbdt'],\n",
    "    'num_leaves': [128],\n",
    "    'random_state' : [42],\n",
    "}\n",
    "grid_LGBM = GridSearchCV(estimator = model_LGBM, param_grid = params, cv=3, n_jobs = -1, scoring='neg_mean_squared_error')"
   ]
  },
  {
   "cell_type": "code",
   "execution_count": 45,
   "id": "24033961-f5e8-4de7-ae28-1ec0c659c592",
   "metadata": {
    "tags": []
   },
   "outputs": [],
   "source": [
    "#%%time\n",
    "\n",
    "#grid_LGBM.fit(features_train, target_train)\n",
    "#LGBM_params = grid_LGBM.best_params_\n",
    "#print('f Best hyperparams: ', grid_LGBM.best_params_)\n",
    "#print(f'RMSE score on train sample: {round((-grid_LGBM.best_score_) ** 0.5, 2)}\\n')"
   ]
  },
  {
   "cell_type": "code",
   "execution_count": 46,
   "id": "0e8b9b59-5163-430c-b8ba-526280d4c644",
   "metadata": {
    "tags": []
   },
   "outputs": [
    {
     "name": "stdout",
     "output_type": "stream",
     "text": [
      "[LightGBM] [Info] Auto-choosing row-wise multi-threading, the overhead of testing was 0.000284 seconds.\n",
      "You can set `force_row_wise=true` to remove the overhead.\n",
      "And if memory is not enough, you can set `force_col_wise=true`.\n",
      "[LightGBM] [Info] Total Bins 286\n",
      "[LightGBM] [Info] Number of data points in the train set: 43862, number of used features: 5\n",
      "[LightGBM] [Info] Start training from score 0.000000\n",
      "[LightGBM] [Warning] No further splits with positive gain, best gain: -inf\n",
      "[LightGBM] [Warning] No further splits with positive gain, best gain: -inf\n",
      "[LightGBM] [Warning] No further splits with positive gain, best gain: -inf\n",
      "[LightGBM] [Warning] No further splits with positive gain, best gain: -inf\n",
      "[LightGBM] [Warning] No further splits with positive gain, best gain: -inf\n",
      "[LightGBM] [Warning] No further splits with positive gain, best gain: -inf\n",
      "[LightGBM] [Warning] No further splits with positive gain, best gain: -inf\n",
      "[LightGBM] [Warning] No further splits with positive gain, best gain: -inf\n",
      "[LightGBM] [Warning] No further splits with positive gain, best gain: -inf\n",
      "[LightGBM] [Warning] No further splits with positive gain, best gain: -inf\n",
      "[LightGBM] [Warning] No further splits with positive gain, best gain: -inf\n",
      "[LightGBM] [Warning] No further splits with positive gain, best gain: -inf\n",
      "[LightGBM] [Warning] No further splits with positive gain, best gain: -inf\n",
      "[LightGBM] [Warning] No further splits with positive gain, best gain: -inf\n",
      "[LightGBM] [Warning] No further splits with positive gain, best gain: -inf\n",
      "[LightGBM] [Warning] No further splits with positive gain, best gain: -inf\n",
      "[LightGBM] [Warning] No further splits with positive gain, best gain: -inf\n",
      "[LightGBM] [Warning] No further splits with positive gain, best gain: -inf\n",
      "[LightGBM] [Warning] No further splits with positive gain, best gain: -inf\n",
      "[LightGBM] [Warning] No further splits with positive gain, best gain: -inf\n",
      "[LightGBM] [Warning] No further splits with positive gain, best gain: -inf\n",
      "[LightGBM] [Warning] No further splits with positive gain, best gain: -inf\n",
      "[LightGBM] [Warning] No further splits with positive gain, best gain: -inf\n",
      "[LightGBM] [Warning] No further splits with positive gain, best gain: -inf\n",
      "[LightGBM] [Warning] No further splits with positive gain, best gain: -inf\n",
      "[LightGBM] [Warning] No further splits with positive gain, best gain: -inf\n",
      "[LightGBM] [Warning] No further splits with positive gain, best gain: -inf\n",
      "[LightGBM] [Warning] No further splits with positive gain, best gain: -inf\n",
      "[LightGBM] [Warning] No further splits with positive gain, best gain: -inf\n",
      "[LightGBM] [Warning] No further splits with positive gain, best gain: -inf\n",
      "[LightGBM] [Warning] No further splits with positive gain, best gain: -inf\n",
      "[LightGBM] [Warning] No further splits with positive gain, best gain: -inf\n",
      "[LightGBM] [Warning] No further splits with positive gain, best gain: -inf\n",
      "[LightGBM] [Warning] No further splits with positive gain, best gain: -inf\n",
      "[LightGBM] [Warning] No further splits with positive gain, best gain: -inf\n",
      "[LightGBM] [Warning] No further splits with positive gain, best gain: -inf\n",
      "[LightGBM] [Warning] No further splits with positive gain, best gain: -inf\n",
      "[LightGBM] [Warning] No further splits with positive gain, best gain: -inf\n",
      "[LightGBM] [Warning] No further splits with positive gain, best gain: -inf\n",
      "[LightGBM] [Warning] No further splits with positive gain, best gain: -inf\n",
      "[LightGBM] [Warning] No further splits with positive gain, best gain: -inf\n",
      "[LightGBM] [Warning] No further splits with positive gain, best gain: -inf\n",
      "[LightGBM] [Warning] No further splits with positive gain, best gain: -inf\n",
      "[LightGBM] [Warning] No further splits with positive gain, best gain: -inf\n",
      "[LightGBM] [Warning] No further splits with positive gain, best gain: -inf\n",
      "[LightGBM] [Warning] No further splits with positive gain, best gain: -inf\n",
      "[LightGBM] [Warning] No further splits with positive gain, best gain: -inf\n",
      "[LightGBM] [Warning] No further splits with positive gain, best gain: -inf\n",
      "[LightGBM] [Warning] No further splits with positive gain, best gain: -inf\n",
      "[LightGBM] [Warning] No further splits with positive gain, best gain: -inf\n",
      "[LightGBM] [Warning] No further splits with positive gain, best gain: -inf\n",
      "[LightGBM] [Warning] No further splits with positive gain, best gain: -inf\n",
      "[LightGBM] [Warning] No further splits with positive gain, best gain: -inf\n"
     ]
    },
    {
     "name": "stderr",
     "output_type": "stream",
     "text": [
      "/opt/conda/lib/python3.10/site-packages/sklearn/utils/validation.py:1143: DataConversionWarning: A column-vector y was passed when a 1d array was expected. Please change the shape of y to (n_samples, ), for example using ravel().\n",
      "  y = column_or_1d(y, warn=True)\n"
     ]
    },
    {
     "data": {
      "text/html": [
       "<style>#sk-container-id-3 {color: black;background-color: white;}#sk-container-id-3 pre{padding: 0;}#sk-container-id-3 div.sk-toggleable {background-color: white;}#sk-container-id-3 label.sk-toggleable__label {cursor: pointer;display: block;width: 100%;margin-bottom: 0;padding: 0.3em;box-sizing: border-box;text-align: center;}#sk-container-id-3 label.sk-toggleable__label-arrow:before {content: \"▸\";float: left;margin-right: 0.25em;color: #696969;}#sk-container-id-3 label.sk-toggleable__label-arrow:hover:before {color: black;}#sk-container-id-3 div.sk-estimator:hover label.sk-toggleable__label-arrow:before {color: black;}#sk-container-id-3 div.sk-toggleable__content {max-height: 0;max-width: 0;overflow: hidden;text-align: left;background-color: #f0f8ff;}#sk-container-id-3 div.sk-toggleable__content pre {margin: 0.2em;color: black;border-radius: 0.25em;background-color: #f0f8ff;}#sk-container-id-3 input.sk-toggleable__control:checked~div.sk-toggleable__content {max-height: 200px;max-width: 100%;overflow: auto;}#sk-container-id-3 input.sk-toggleable__control:checked~label.sk-toggleable__label-arrow:before {content: \"▾\";}#sk-container-id-3 div.sk-estimator input.sk-toggleable__control:checked~label.sk-toggleable__label {background-color: #d4ebff;}#sk-container-id-3 div.sk-label input.sk-toggleable__control:checked~label.sk-toggleable__label {background-color: #d4ebff;}#sk-container-id-3 input.sk-hidden--visually {border: 0;clip: rect(1px 1px 1px 1px);clip: rect(1px, 1px, 1px, 1px);height: 1px;margin: -1px;overflow: hidden;padding: 0;position: absolute;width: 1px;}#sk-container-id-3 div.sk-estimator {font-family: monospace;background-color: #f0f8ff;border: 1px dotted black;border-radius: 0.25em;box-sizing: border-box;margin-bottom: 0.5em;}#sk-container-id-3 div.sk-estimator:hover {background-color: #d4ebff;}#sk-container-id-3 div.sk-parallel-item::after {content: \"\";width: 100%;border-bottom: 1px solid gray;flex-grow: 1;}#sk-container-id-3 div.sk-label:hover label.sk-toggleable__label {background-color: #d4ebff;}#sk-container-id-3 div.sk-serial::before {content: \"\";position: absolute;border-left: 1px solid gray;box-sizing: border-box;top: 0;bottom: 0;left: 50%;z-index: 0;}#sk-container-id-3 div.sk-serial {display: flex;flex-direction: column;align-items: center;background-color: white;padding-right: 0.2em;padding-left: 0.2em;position: relative;}#sk-container-id-3 div.sk-item {position: relative;z-index: 1;}#sk-container-id-3 div.sk-parallel {display: flex;align-items: stretch;justify-content: center;background-color: white;position: relative;}#sk-container-id-3 div.sk-item::before, #sk-container-id-3 div.sk-parallel-item::before {content: \"\";position: absolute;border-left: 1px solid gray;box-sizing: border-box;top: 0;bottom: 0;left: 50%;z-index: -1;}#sk-container-id-3 div.sk-parallel-item {display: flex;flex-direction: column;z-index: 1;position: relative;background-color: white;}#sk-container-id-3 div.sk-parallel-item:first-child::after {align-self: flex-end;width: 50%;}#sk-container-id-3 div.sk-parallel-item:last-child::after {align-self: flex-start;width: 50%;}#sk-container-id-3 div.sk-parallel-item:only-child::after {width: 0;}#sk-container-id-3 div.sk-dashed-wrapped {border: 1px dashed gray;margin: 0 0.4em 0.5em 0.4em;box-sizing: border-box;padding-bottom: 0.4em;background-color: white;}#sk-container-id-3 div.sk-label label {font-family: monospace;font-weight: bold;display: inline-block;line-height: 1.2em;}#sk-container-id-3 div.sk-label-container {text-align: center;}#sk-container-id-3 div.sk-container {/* jupyter's `normalize.less` sets `[hidden] { display: none; }` but bootstrap.min.css set `[hidden] { display: none !important; }` so we also need the `!important` here to be able to override the default hidden behavior on the sphinx rendered scikit-learn.org. See: https://github.com/scikit-learn/scikit-learn/issues/21755 */display: inline-block !important;position: relative;}#sk-container-id-3 div.sk-text-repr-fallback {display: none;}</style><div id=\"sk-container-id-3\" class=\"sk-top-container\"><div class=\"sk-text-repr-fallback\"><pre>LGBMRegressor(max_depth=4, metric=&#x27;l2&#x27;, num_leaves=128, random_state=42)</pre><b>In a Jupyter environment, please rerun this cell to show the HTML representation or trust the notebook. <br />On GitHub, the HTML representation is unable to render, please try loading this page with nbviewer.org.</b></div><div class=\"sk-container\" hidden><div class=\"sk-item\"><div class=\"sk-estimator sk-toggleable\"><input class=\"sk-toggleable__control sk-hidden--visually\" id=\"sk-estimator-id-3\" type=\"checkbox\" checked><label for=\"sk-estimator-id-3\" class=\"sk-toggleable__label sk-toggleable__label-arrow\">LGBMRegressor</label><div class=\"sk-toggleable__content\"><pre>LGBMRegressor(max_depth=4, metric=&#x27;l2&#x27;, num_leaves=128, random_state=42)</pre></div></div></div></div></div>"
      ],
      "text/plain": [
       "LGBMRegressor(max_depth=4, metric='l2', num_leaves=128, random_state=42)"
      ]
     },
     "execution_count": 46,
     "metadata": {},
     "output_type": "execute_result"
    }
   ],
   "source": [
    "model_LGBM = LGBMRegressor(boosting_type = 'gbdt', max_depth = 4, n_estimators = 100, random_state = 42, metric = 'l2', \n",
    "                             num_leaves = 128)\n",
    "model_LGBM.fit(features_train, target_train)"
   ]
  },
  {
   "cell_type": "code",
   "execution_count": 47,
   "id": "93bd0f4a-3f17-470b-9722-06e581829727",
   "metadata": {
    "tags": []
   },
   "outputs": [],
   "source": [
    "predictions_LGBM = model_LGBM.predict(features_valid)"
   ]
  },
  {
   "cell_type": "code",
   "execution_count": 48,
   "id": "9184e469-ad9a-4566-8977-0f6bc55750fe",
   "metadata": {
    "tags": []
   },
   "outputs": [],
   "source": [
    "MAE_LGBM = metrics.mean_absolute_error(target_valid, predictions_LGBM)\n",
    "RMSE_LGBM = np.sqrt(metrics.mean_squared_error(target_valid, predictions_LGBM))\n",
    "MAPE_LGBM = metrics.mean_absolute_percentage_error(target_valid, predictions_LGBM)"
   ]
  },
  {
   "cell_type": "code",
   "execution_count": 49,
   "id": "f220f02c-13a9-4c25-9b88-8bf94223e2a0",
   "metadata": {
    "tags": []
   },
   "outputs": [
    {
     "data": {
      "text/html": [
       "<div>\n",
       "<style scoped>\n",
       "    .dataframe tbody tr th:only-of-type {\n",
       "        vertical-align: middle;\n",
       "    }\n",
       "\n",
       "    .dataframe tbody tr th {\n",
       "        vertical-align: top;\n",
       "    }\n",
       "\n",
       "    .dataframe thead th {\n",
       "        text-align: right;\n",
       "    }\n",
       "</style>\n",
       "<table border=\"1\" class=\"dataframe\">\n",
       "  <thead>\n",
       "    <tr style=\"text-align: right;\">\n",
       "      <th></th>\n",
       "      <th>MAE</th>\n",
       "      <th>RSME</th>\n",
       "      <th>MAPE</th>\n",
       "    </tr>\n",
       "  </thead>\n",
       "  <tbody>\n",
       "    <tr>\n",
       "      <th>LinearRegression</th>\n",
       "      <td>0.459576</td>\n",
       "      <td>0.670220</td>\n",
       "      <td>1.943975</td>\n",
       "    </tr>\n",
       "    <tr>\n",
       "      <th>DecisionTreeRegressor</th>\n",
       "      <td>0.432542</td>\n",
       "      <td>0.654643</td>\n",
       "      <td>1.854914</td>\n",
       "    </tr>\n",
       "    <tr>\n",
       "      <th>CatBoostRegressor</th>\n",
       "      <td>0.426540</td>\n",
       "      <td>0.641263</td>\n",
       "      <td>1.828946</td>\n",
       "    </tr>\n",
       "    <tr>\n",
       "      <th>LGBMRegressor</th>\n",
       "      <td>0.425663</td>\n",
       "      <td>0.641956</td>\n",
       "      <td>1.830472</td>\n",
       "    </tr>\n",
       "  </tbody>\n",
       "</table>\n",
       "</div>"
      ],
      "text/plain": [
       "                            MAE      RSME      MAPE\n",
       "LinearRegression       0.459576  0.670220  1.943975\n",
       "DecisionTreeRegressor  0.432542  0.654643  1.854914\n",
       "CatBoostRegressor      0.426540  0.641263  1.828946\n",
       "LGBMRegressor          0.425663  0.641956  1.830472"
      ]
     },
     "execution_count": 49,
     "metadata": {},
     "output_type": "execute_result"
    }
   ],
   "source": [
    "model_characteristics['LGBMRegressor'] = {\n",
    "        'MAE': MAE_LGBM,\n",
    "        'RSME': RMSE_LGBM,\n",
    "        'MAPE': MAPE_LGBM\n",
    "    }\n",
    "info = pd.DataFrame(model_characteristics).T\n",
    "info"
   ]
  },
  {
   "cell_type": "markdown",
   "id": "e74a38e0-415b-449b-bc36-90cb092b0a58",
   "metadata": {},
   "source": [
    "### Model testing"
   ]
  },
  {
   "cell_type": "code",
   "execution_count": 50,
   "id": "657f3178-4285-4fbc-bcf1-a1168dc3f989",
   "metadata": {
    "tags": []
   },
   "outputs": [
    {
     "data": {
      "text/html": [
       "<style>#sk-container-id-4 {color: black;background-color: white;}#sk-container-id-4 pre{padding: 0;}#sk-container-id-4 div.sk-toggleable {background-color: white;}#sk-container-id-4 label.sk-toggleable__label {cursor: pointer;display: block;width: 100%;margin-bottom: 0;padding: 0.3em;box-sizing: border-box;text-align: center;}#sk-container-id-4 label.sk-toggleable__label-arrow:before {content: \"▸\";float: left;margin-right: 0.25em;color: #696969;}#sk-container-id-4 label.sk-toggleable__label-arrow:hover:before {color: black;}#sk-container-id-4 div.sk-estimator:hover label.sk-toggleable__label-arrow:before {color: black;}#sk-container-id-4 div.sk-toggleable__content {max-height: 0;max-width: 0;overflow: hidden;text-align: left;background-color: #f0f8ff;}#sk-container-id-4 div.sk-toggleable__content pre {margin: 0.2em;color: black;border-radius: 0.25em;background-color: #f0f8ff;}#sk-container-id-4 input.sk-toggleable__control:checked~div.sk-toggleable__content {max-height: 200px;max-width: 100%;overflow: auto;}#sk-container-id-4 input.sk-toggleable__control:checked~label.sk-toggleable__label-arrow:before {content: \"▾\";}#sk-container-id-4 div.sk-estimator input.sk-toggleable__control:checked~label.sk-toggleable__label {background-color: #d4ebff;}#sk-container-id-4 div.sk-label input.sk-toggleable__control:checked~label.sk-toggleable__label {background-color: #d4ebff;}#sk-container-id-4 input.sk-hidden--visually {border: 0;clip: rect(1px 1px 1px 1px);clip: rect(1px, 1px, 1px, 1px);height: 1px;margin: -1px;overflow: hidden;padding: 0;position: absolute;width: 1px;}#sk-container-id-4 div.sk-estimator {font-family: monospace;background-color: #f0f8ff;border: 1px dotted black;border-radius: 0.25em;box-sizing: border-box;margin-bottom: 0.5em;}#sk-container-id-4 div.sk-estimator:hover {background-color: #d4ebff;}#sk-container-id-4 div.sk-parallel-item::after {content: \"\";width: 100%;border-bottom: 1px solid gray;flex-grow: 1;}#sk-container-id-4 div.sk-label:hover label.sk-toggleable__label {background-color: #d4ebff;}#sk-container-id-4 div.sk-serial::before {content: \"\";position: absolute;border-left: 1px solid gray;box-sizing: border-box;top: 0;bottom: 0;left: 50%;z-index: 0;}#sk-container-id-4 div.sk-serial {display: flex;flex-direction: column;align-items: center;background-color: white;padding-right: 0.2em;padding-left: 0.2em;position: relative;}#sk-container-id-4 div.sk-item {position: relative;z-index: 1;}#sk-container-id-4 div.sk-parallel {display: flex;align-items: stretch;justify-content: center;background-color: white;position: relative;}#sk-container-id-4 div.sk-item::before, #sk-container-id-4 div.sk-parallel-item::before {content: \"\";position: absolute;border-left: 1px solid gray;box-sizing: border-box;top: 0;bottom: 0;left: 50%;z-index: -1;}#sk-container-id-4 div.sk-parallel-item {display: flex;flex-direction: column;z-index: 1;position: relative;background-color: white;}#sk-container-id-4 div.sk-parallel-item:first-child::after {align-self: flex-end;width: 50%;}#sk-container-id-4 div.sk-parallel-item:last-child::after {align-self: flex-start;width: 50%;}#sk-container-id-4 div.sk-parallel-item:only-child::after {width: 0;}#sk-container-id-4 div.sk-dashed-wrapped {border: 1px dashed gray;margin: 0 0.4em 0.5em 0.4em;box-sizing: border-box;padding-bottom: 0.4em;background-color: white;}#sk-container-id-4 div.sk-label label {font-family: monospace;font-weight: bold;display: inline-block;line-height: 1.2em;}#sk-container-id-4 div.sk-label-container {text-align: center;}#sk-container-id-4 div.sk-container {/* jupyter's `normalize.less` sets `[hidden] { display: none; }` but bootstrap.min.css set `[hidden] { display: none !important; }` so we also need the `!important` here to be able to override the default hidden behavior on the sphinx rendered scikit-learn.org. See: https://github.com/scikit-learn/scikit-learn/issues/21755 */display: inline-block !important;position: relative;}#sk-container-id-4 div.sk-text-repr-fallback {display: none;}</style><div id=\"sk-container-id-4\" class=\"sk-top-container\"><div class=\"sk-text-repr-fallback\"><pre>DecisionTreeRegressor(max_depth=7, random_state=42)</pre><b>In a Jupyter environment, please rerun this cell to show the HTML representation or trust the notebook. <br />On GitHub, the HTML representation is unable to render, please try loading this page with nbviewer.org.</b></div><div class=\"sk-container\" hidden><div class=\"sk-item\"><div class=\"sk-estimator sk-toggleable\"><input class=\"sk-toggleable__control sk-hidden--visually\" id=\"sk-estimator-id-4\" type=\"checkbox\" checked><label for=\"sk-estimator-id-4\" class=\"sk-toggleable__label sk-toggleable__label-arrow\">DecisionTreeRegressor</label><div class=\"sk-toggleable__content\"><pre>DecisionTreeRegressor(max_depth=7, random_state=42)</pre></div></div></div></div></div>"
      ],
      "text/plain": [
       "DecisionTreeRegressor(max_depth=7, random_state=42)"
      ]
     },
     "execution_count": 50,
     "metadata": {},
     "output_type": "execute_result"
    }
   ],
   "source": [
    "best_model = model_DTR\n",
    "best_model.fit(features_train, target_train)"
   ]
  },
  {
   "cell_type": "code",
   "execution_count": 51,
   "id": "3801edf5-e304-4229-9e7f-b04aa3a554cd",
   "metadata": {
    "tags": []
   },
   "outputs": [],
   "source": [
    "prediction_best = best_model.predict(features_test)"
   ]
  },
  {
   "cell_type": "code",
   "execution_count": 52,
   "id": "9961bb39-cfd7-483f-9e79-96f21462cd3a",
   "metadata": {
    "tags": []
   },
   "outputs": [],
   "source": [
    "MAE = metrics.mean_absolute_error(target_test, prediction_best)\n",
    "RMSE = np.sqrt(metrics.mean_squared_error(target_test, prediction_best))\n",
    "MAPE = metrics.mean_absolute_percentage_error(target_test, prediction_best)"
   ]
  },
  {
   "cell_type": "code",
   "execution_count": 53,
   "id": "8246961c-f114-49f0-8102-a926b713a63f",
   "metadata": {
    "tags": []
   },
   "outputs": [
    {
     "data": {
      "text/html": [
       "<div>\n",
       "<style scoped>\n",
       "    .dataframe tbody tr th:only-of-type {\n",
       "        vertical-align: middle;\n",
       "    }\n",
       "\n",
       "    .dataframe tbody tr th {\n",
       "        vertical-align: top;\n",
       "    }\n",
       "\n",
       "    .dataframe thead th {\n",
       "        text-align: right;\n",
       "    }\n",
       "</style>\n",
       "<table border=\"1\" class=\"dataframe\">\n",
       "  <thead>\n",
       "    <tr style=\"text-align: right;\">\n",
       "      <th></th>\n",
       "      <th>MAE</th>\n",
       "      <th>RSME</th>\n",
       "      <th>MAPE</th>\n",
       "    </tr>\n",
       "  </thead>\n",
       "  <tbody>\n",
       "    <tr>\n",
       "      <th>LinearRegression</th>\n",
       "      <td>0.459576</td>\n",
       "      <td>0.670220</td>\n",
       "      <td>1.943975</td>\n",
       "    </tr>\n",
       "    <tr>\n",
       "      <th>DecisionTreeRegressor</th>\n",
       "      <td>0.432542</td>\n",
       "      <td>0.654643</td>\n",
       "      <td>1.854914</td>\n",
       "    </tr>\n",
       "    <tr>\n",
       "      <th>CatBoostRegressor</th>\n",
       "      <td>0.426540</td>\n",
       "      <td>0.641263</td>\n",
       "      <td>1.828946</td>\n",
       "    </tr>\n",
       "    <tr>\n",
       "      <th>LGBMRegressor</th>\n",
       "      <td>0.425663</td>\n",
       "      <td>0.641956</td>\n",
       "      <td>1.830472</td>\n",
       "    </tr>\n",
       "    <tr>\n",
       "      <th>Test_model_DTR</th>\n",
       "      <td>0.433786</td>\n",
       "      <td>0.655683</td>\n",
       "      <td>1.671722</td>\n",
       "    </tr>\n",
       "  </tbody>\n",
       "</table>\n",
       "</div>"
      ],
      "text/plain": [
       "                            MAE      RSME      MAPE\n",
       "LinearRegression       0.459576  0.670220  1.943975\n",
       "DecisionTreeRegressor  0.432542  0.654643  1.854914\n",
       "CatBoostRegressor      0.426540  0.641263  1.828946\n",
       "LGBMRegressor          0.425663  0.641956  1.830472\n",
       "Test_model_DTR         0.433786  0.655683  1.671722"
      ]
     },
     "execution_count": 53,
     "metadata": {},
     "output_type": "execute_result"
    }
   ],
   "source": [
    "model_characteristics['Test_model_DTR'] = {\n",
    "        'MAE': MAE,\n",
    "        'RSME': RMSE,\n",
    "        'MAPE': MAPE\n",
    "    }\n",
    "info = pd.DataFrame(model_characteristics).T\n",
    "info"
   ]
  },
  {
   "cell_type": "code",
   "execution_count": 54,
   "id": "987e4d8b-715b-4e97-94cd-1400361fea78",
   "metadata": {
    "tags": []
   },
   "outputs": [
    {
     "data": {
      "text/plain": [
       "['model.pkl']"
      ]
     },
     "execution_count": 54,
     "metadata": {},
     "output_type": "execute_result"
    }
   ],
   "source": [
    "model_file = 'model.pkl'\n",
    "scaler_x = 'scaler_x.pkl'\n",
    "scaler_y = 'scaler_y.pkl'\n",
    "joblib.dump(sc_X, scaler_x)\n",
    "joblib.dump(sc_y, scaler_y)\n",
    "joblib.dump(model_DTR, model_file)"
   ]
  }
 ],
 "metadata": {
  "kernelspec": {
   "display_name": "Python 3 (ipykernel)",
   "language": "python",
   "name": "python3"
  },
  "language_info": {
   "codemirror_mode": {
    "name": "ipython",
    "version": 3
   },
   "file_extension": ".py",
   "mimetype": "text/x-python",
   "name": "python",
   "nbconvert_exporter": "python",
   "pygments_lexer": "ipython3",
   "version": "3.10.8"
  }
 },
 "nbformat": 4,
 "nbformat_minor": 5
}
